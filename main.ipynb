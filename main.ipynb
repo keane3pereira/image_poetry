{
 "cells": [
  {
   "cell_type": "code",
   "execution_count": 1,
   "metadata": {},
   "outputs": [
    {
     "name": "stderr",
     "output_type": "stream",
     "text": [
      "  % Total    % Received % Xferd  Average Speed   Time    Time     Time  Current\n",
      "                                 Dload  Upload   Total   Spent    Left  Speed\n",
      "\n",
      "  0     0    0     0    0     0      0      0 --:--:-- --:--:-- --:--:--     0\n",
      "  0 52.2M    0 54466    0     0  51074      0  0:17:53  0:00:01  0:17:52 51189\n",
      "  2 52.2M    2 1228k    0     0   590k      0  0:01:30  0:00:02  0:01:28  591k\n",
      " 12 52.2M   12 6752k    0     0  2295k      0  0:00:23  0:00:02  0:00:21 2296k\n",
      " 26 52.2M   26 14.0M    0     0  3637k      0  0:00:14  0:00:03  0:00:11 3638k\n",
      " 44 52.2M   44 23.1M    0     0  4768k      0  0:00:11  0:00:04  0:00:07 4770k\n",
      " 63 52.2M   63 33.3M    0     0  5749k      0  0:00:09  0:00:05  0:00:04 6994k\n",
      " 85 52.2M   85 44.6M    0     0  6582k      0  0:00:08  0:00:06  0:00:02 9144k\n",
      "100 52.2M  100 52.2M    0     0  7025k      0  0:00:07  0:00:07 --:--:-- 9999k\n"
     ]
    }
   ],
   "source": [
    "!curl -O http://static.decontextualize.com/gutenberg-poetry-v001.ndjson.gz"
   ]
  },
  {
   "cell_type": "code",
   "execution_count": 2,
   "metadata": {},
   "outputs": [],
   "source": [
    "import gzip, json\n",
    "all_lines = []\n",
    "for line in gzip.open(\"gutenberg-poetry-v001.ndjson.gz\"):\n",
    "    all_lines.append(json.loads(line.strip()))"
   ]
  },
  {
   "cell_type": "code",
   "execution_count": 3,
   "metadata": {},
   "outputs": [],
   "source": [
    "import random\n",
    "corpus = \"\\n\".join([line['s'] for line in random.sample(all_lines, 1000)])"
   ]
  },
  {
   "cell_type": "code",
   "execution_count": 4,
   "metadata": {},
   "outputs": [
    {
     "ename": "ModuleNotFoundError",
     "evalue": "No module named 'markovify'",
     "output_type": "error",
     "traceback": [
      "\u001b[1;31m---------------------------------------------------------------------------\u001b[0m",
      "\u001b[1;31mModuleNotFoundError\u001b[0m                       Traceback (most recent call last)",
      "\u001b[1;32mc:\\Users\\keane\\Desktop\\image_poetry\\main.ipynb Cell 4\u001b[0m in \u001b[0;36m1\n\u001b[1;32m----> <a href='vscode-notebook-cell:/c%3A/Users/keane/Desktop/image_poetry/main.ipynb#W3sZmlsZQ%3D%3D?line=0'>1</a>\u001b[0m \u001b[39mimport\u001b[39;00m \u001b[39mmarkovify\u001b[39;00m\n\u001b[0;32m      <a href='vscode-notebook-cell:/c%3A/Users/keane/Desktop/image_poetry/main.ipynb#W3sZmlsZQ%3D%3D?line=1'>2</a>\u001b[0m model \u001b[39m=\u001b[39m markovify\u001b[39m.\u001b[39mNewlineText(corpus)\n",
      "\u001b[1;31mModuleNotFoundError\u001b[0m: No module named 'markovify'"
     ]
    }
   ],
   "source": [
    "import markovify\n",
    "model = markovify.NewlineText(corpus)"
   ]
  },
  {
   "cell_type": "code",
   "execution_count": null,
   "metadata": {},
   "outputs": [],
   "source": [
    "for i in range(5):\n",
    "    print()\n",
    "    for i in range(random.randrange(1, 4)):\n",
    "        print(model.make_short_sentence(30))"
   ]
  },
  {
   "cell_type": "code",
   "execution_count": 16,
   "metadata": {},
   "outputs": [],
   "source": [
    "from keras.layers import LSTM, Dense, Dropout, Flatten\n",
    "from keras.callbacks import LambdaCallback\n",
    "from keras.models import Sequential\n",
    "from keras.optimizers import RMSprop\n",
    "from keras.utils import np_utils"
   ]
  },
  {
   "cell_type": "code",
   "execution_count": 5,
   "metadata": {},
   "outputs": [
    {
     "name": "stdout",
     "output_type": "stream",
     "text": [
      "Vocabulary size: 77\n"
     ]
    }
   ],
   "source": [
    "# Lowercase all text\n",
    "text = corpus.lower()\n",
    "\n",
    "chars = list(set(text))\n",
    "char_indices = dict((c, i) for i, c in enumerate(chars))\n",
    "indices_char = dict((i, c) for i, c in enumerate(chars))\n",
    "\n",
    "vocab_size = len(chars)\n",
    "print('Vocabulary size: {}'.format(vocab_size))"
   ]
  },
  {
   "cell_type": "code",
   "execution_count": 6,
   "metadata": {},
   "outputs": [
    {
     "name": "stdout",
     "output_type": "stream",
     "text": [
      "Number of sequences: 39465\n"
     ]
    }
   ],
   "source": [
    "# Data preparation\n",
    "X = [] # training array\n",
    "Y = [] # target array\n",
    "\n",
    "length = len(text)\n",
    "seq_length = 100 # number of characters to consider before predicting a character\n",
    "\n",
    "# Iterate over length of text and create sequences stored in X, true values stored in Y\n",
    "# true values being which character would actually come after sequence stored in X\n",
    "for i in range(0, length - seq_length, 1):\n",
    "    sequence = text[i:i + seq_length]\n",
    "    label = text[i + seq_length]\n",
    "    X.append([char_indices[char] for char in sequence])\n",
    "    Y.append(char_indices[label])\n",
    "\n",
    "print('Number of sequences: {}'.format(len(X)))"
   ]
  },
  {
   "cell_type": "code",
   "execution_count": 13,
   "metadata": {},
   "outputs": [
    {
     "name": "stderr",
     "output_type": "stream",
     "text": [
      "C:\\Users\\keane\\AppData\\Roaming\\Python\\Python39\\site-packages\\requests\\__init__.py:102: RequestsDependencyWarning: urllib3 (1.26.15) or chardet (5.1.0)/charset_normalizer (2.0.12) doesn't match a supported version!\n",
      "  warnings.warn(\"urllib3 ({}) or chardet ({})/charset_normalizer ({}) doesn't match a supported \"\n"
     ]
    }
   ],
   "source": [
    "import numpy as np\n",
    "from keras.utils import np_utils"
   ]
  },
  {
   "cell_type": "code",
   "execution_count": 14,
   "metadata": {},
   "outputs": [
    {
     "data": {
      "text/plain": [
       "((39465, 100, 1), (39465, 77))"
      ]
     },
     "execution_count": 14,
     "metadata": {},
     "output_type": "execute_result"
    }
   ],
   "source": [
    "# Reshape dimensions\n",
    "X_new = np.reshape(X, (len(X), seq_length, 1))\n",
    "# Scale values\n",
    "X_new = X_new/float(len(chars))\n",
    "# One-hot encode Y to remove ordinal relationships\n",
    "Y_new = np_utils.to_categorical(Y)\n",
    "\n",
    "X_new.shape, Y_new.shape"
   ]
  },
  {
   "cell_type": "code",
   "execution_count": 17,
   "metadata": {},
   "outputs": [
    {
     "name": "stdout",
     "output_type": "stream",
     "text": [
      "1234/1234 [==============================] - 323s 255ms/step - loss: 3.0589\n"
     ]
    },
    {
     "data": {
      "text/plain": [
       "<keras.callbacks.History at 0x1df8aa24790>"
      ]
     },
     "execution_count": 17,
     "metadata": {},
     "output_type": "execute_result"
    }
   ],
   "source": [
    "model = Sequential()\n",
    "# Add LSTM layer to compute output using 150 LSTM units\n",
    "model.add(LSTM(150, input_shape = (X_new.shape[1], X_new.shape[2]), return_sequences = True))\n",
    "\n",
    "# Add regularization layer to prevent overfitting.\n",
    "# Dropout ignores randomly selected neurons during training (\"dropped out\").\n",
    "# Ultimately, network becomes less sensitive to specific weights of neurons --> network is better at generalization.\n",
    "model.add(Dropout(0.1))\n",
    "\n",
    "model.add(Flatten())\n",
    "# Dense layer with softmax activation function to approximate probability distribution of next best word\n",
    "model.add(Dense(Y_new.shape[1], activation = 'softmax'))\n",
    "\n",
    "# Compile model to configure learning process\n",
    "# Categorical crossentropy: an example can only belong to one class\n",
    "# Adam optimization algorithm updates a learning rate for each network weight iteratively as learning unfolds\n",
    "model.compile(loss = 'categorical_crossentropy', optimizer = 'adam')\n",
    "\n",
    "# Use 1 epoch for sake of computational time\n",
    "model.fit(X_new, Y_new, epochs = 1, verbose = 1)\n"
   ]
  },
  {
   "cell_type": "code",
   "execution_count": 18,
   "metadata": {},
   "outputs": [
    {
     "name": "stdout",
     "output_type": "stream",
     "text": [
      " \"offense be rank,\" should mine be rancor?\n",
      "in measured song, as of the fruitful year\n",
      "with bracelets                                                                                                                                                                                                                                                                                                                                                                                                                 \n"
     ]
    }
   ],
   "source": [
    "# Random start\n",
    "start = np.random.randint(0, len(X)-1)\n",
    "string_mapped = list(X[start])\n",
    "full_string = [indices_char[value] for value in string_mapped]\n",
    "\n",
    "# Generate text\n",
    "for i in range(400):\n",
    "    x = np.reshape(string_mapped, (1, len(string_mapped), 1))\n",
    "    x = x / float(len(chars))\n",
    "    \n",
    "    pred_index = np.argmax(model.predict(x, verbose = 0))\n",
    "    seq = [indices_char[value] for value in string_mapped]\n",
    "    full_string.append(indices_char[pred_index])\n",
    "    \n",
    "    string_mapped.append(pred_index)\n",
    "    string_mapped = string_mapped[1:len(string_mapped)]\n",
    "    \n",
    "# Combine text\n",
    "newtext = ''\n",
    "for char in full_string:\n",
    "    newtext = newtext + char\n",
    "\n",
    "print(newtext)"
   ]
  },
  {
   "cell_type": "code",
   "execution_count": 21,
   "metadata": {},
   "outputs": [],
   "source": [
    "import keras.utils as ku\n",
    "from keras.preprocessing.text import Tokenizer\n",
    "from tensorflow.keras.preprocessing.sequence import pad_sequences\n",
    "from keras.layers import Embedding\n",
    "\n",
    "# Lowercase all text\n",
    "text = corpus.lower()\n",
    "text = text.split('\\n')\n",
    "\n",
    "# Create Tokenizer object to convert words to sequences of integers\n",
    "tokenizer = Tokenizer(num_words = None, filters = '#$%&()*+-<=>@[\\\\]^_`{|}~\\t\\n', lower = False)\n",
    "\n",
    "# Train tokenizer to the texts\n",
    "tokenizer.fit_on_texts(text)\n",
    "total_words = len(tokenizer.word_index) + 1\n",
    "\n",
    "# Convert list of strings into flat dataset of sequences of tokens\n",
    "sequences = []\n",
    "for line in text:\n",
    "    token_list = tokenizer.texts_to_sequences([line])[0]\n",
    "    for i in range(1, len(token_list)):\n",
    "        n_gram_sequence = token_list[:i+1]\n",
    "        sequences.append(n_gram_sequence)\n",
    "\n",
    "# Pad sequences to ensure equal lengths\n",
    "max_seq_len = max([len(x) for x in sequences])\n",
    "sequences = np.array(pad_sequences(sequences, maxlen = max_seq_len, padding = 'pre'))\n",
    "\n",
    "# Create n-grams sequence predictors and labels\n",
    "predictors, label = sequences[:, :-1], sequences[:, -1]\n",
    "label = ku.to_categorical(label, num_classes = total_words)"
   ]
  },
  {
   "cell_type": "code",
   "execution_count": 24,
   "metadata": {},
   "outputs": [
    {
     "name": "stdout",
     "output_type": "stream",
     "text": [
      "Epoch 1/100\n",
      "197/197 [==============================] - 15s 44ms/step - loss: 7.4935\n",
      "Epoch 2/100\n",
      "197/197 [==============================] - 8s 39ms/step - loss: 6.9542\n",
      "Epoch 3/100\n",
      "197/197 [==============================] - 7s 36ms/step - loss: 6.8104\n",
      "Epoch 4/100\n",
      "197/197 [==============================] - 7s 37ms/step - loss: 6.7080\n",
      "Epoch 5/100\n",
      "197/197 [==============================] - 7s 36ms/step - loss: 6.6095\n",
      "Epoch 6/100\n",
      "197/197 [==============================] - 7s 36ms/step - loss: 6.4978\n",
      "Epoch 7/100\n",
      "197/197 [==============================] - 7s 36ms/step - loss: 6.3643\n",
      "Epoch 8/100\n",
      "197/197 [==============================] - 7s 36ms/step - loss: 6.2194\n",
      "Epoch 9/100\n",
      "197/197 [==============================] - 7s 36ms/step - loss: 6.0678\n",
      "Epoch 10/100\n",
      "197/197 [==============================] - 7s 36ms/step - loss: 5.9175\n",
      "Epoch 11/100\n",
      "197/197 [==============================] - 7s 34ms/step - loss: 5.7686\n",
      "Epoch 12/100\n",
      "197/197 [==============================] - 7s 34ms/step - loss: 5.6192\n",
      "Epoch 13/100\n",
      "197/197 [==============================] - 7s 34ms/step - loss: 5.4751\n",
      "Epoch 14/100\n",
      "197/197 [==============================] - 7s 38ms/step - loss: 5.3302\n",
      "Epoch 15/100\n",
      "197/197 [==============================] - 9s 44ms/step - loss: 5.1930\n",
      "Epoch 16/100\n",
      "197/197 [==============================] - 8s 39ms/step - loss: 5.0483\n",
      "Epoch 17/100\n",
      "197/197 [==============================] - 8s 41ms/step - loss: 4.9167\n",
      "Epoch 18/100\n",
      "197/197 [==============================] - 9s 44ms/step - loss: 4.7833\n",
      "Epoch 19/100\n",
      "197/197 [==============================] - 9s 43ms/step - loss: 4.6484\n",
      "Epoch 20/100\n",
      "197/197 [==============================] - 8s 39ms/step - loss: 4.5262\n",
      "Epoch 21/100\n",
      "197/197 [==============================] - 8s 39ms/step - loss: 4.3983\n",
      "Epoch 22/100\n",
      "197/197 [==============================] - 7s 37ms/step - loss: 4.2816\n",
      "Epoch 23/100\n",
      "197/197 [==============================] - 7s 34ms/step - loss: 4.1692\n",
      "Epoch 24/100\n",
      "197/197 [==============================] - 8s 39ms/step - loss: 4.0499\n",
      "Epoch 25/100\n",
      "197/197 [==============================] - 8s 41ms/step - loss: 3.9495\n",
      "Epoch 26/100\n",
      "197/197 [==============================] - 8s 39ms/step - loss: 3.8382\n",
      "Epoch 27/100\n",
      "197/197 [==============================] - 8s 38ms/step - loss: 3.7400\n",
      "Epoch 28/100\n",
      "197/197 [==============================] - 7s 36ms/step - loss: 3.6404\n",
      "Epoch 29/100\n",
      "197/197 [==============================] - 7s 35ms/step - loss: 3.5533\n",
      "Epoch 30/100\n",
      "197/197 [==============================] - 7s 35ms/step - loss: 3.4647\n",
      "Epoch 31/100\n",
      "197/197 [==============================] - 7s 35ms/step - loss: 3.3756\n",
      "Epoch 32/100\n",
      "197/197 [==============================] - 7s 35ms/step - loss: 3.3055\n",
      "Epoch 33/100\n",
      "197/197 [==============================] - 7s 35ms/step - loss: 3.2305\n",
      "Epoch 34/100\n",
      "197/197 [==============================] - 7s 35ms/step - loss: 3.1537\n",
      "Epoch 35/100\n",
      "197/197 [==============================] - 8s 39ms/step - loss: 3.0873\n",
      "Epoch 36/100\n",
      "197/197 [==============================] - 8s 40ms/step - loss: 3.0223\n",
      "Epoch 37/100\n",
      "197/197 [==============================] - 8s 39ms/step - loss: 2.9522\n",
      "Epoch 38/100\n",
      "197/197 [==============================] - 8s 41ms/step - loss: 2.9034\n",
      "Epoch 39/100\n",
      "197/197 [==============================] - 8s 43ms/step - loss: 2.8391\n",
      "Epoch 40/100\n",
      "197/197 [==============================] - 8s 43ms/step - loss: 2.7852\n",
      "Epoch 41/100\n",
      "197/197 [==============================] - 7s 38ms/step - loss: 2.7209\n",
      "Epoch 42/100\n",
      "197/197 [==============================] - 9s 46ms/step - loss: 2.6749\n",
      "Epoch 43/100\n",
      "197/197 [==============================] - 9s 43ms/step - loss: 2.6269\n",
      "Epoch 44/100\n",
      "197/197 [==============================] - 9s 47ms/step - loss: 2.5831\n",
      "Epoch 45/100\n",
      "197/197 [==============================] - 8s 43ms/step - loss: 2.5289\n",
      "Epoch 46/100\n",
      "197/197 [==============================] - 8s 40ms/step - loss: 2.4801\n",
      "Epoch 47/100\n",
      "197/197 [==============================] - 8s 42ms/step - loss: 2.4402\n",
      "Epoch 48/100\n",
      "197/197 [==============================] - 8s 41ms/step - loss: 2.3984\n",
      "Epoch 49/100\n",
      "197/197 [==============================] - 8s 43ms/step - loss: 2.3600\n",
      "Epoch 50/100\n",
      "197/197 [==============================] - 8s 39ms/step - loss: 2.3195\n",
      "Epoch 51/100\n",
      "197/197 [==============================] - 7s 38ms/step - loss: 2.2731\n",
      "Epoch 52/100\n",
      "197/197 [==============================] - 8s 41ms/step - loss: 2.2363\n",
      "Epoch 53/100\n",
      "197/197 [==============================] - 8s 39ms/step - loss: 2.2002\n",
      "Epoch 54/100\n",
      "197/197 [==============================] - 8s 38ms/step - loss: 2.1670\n",
      "Epoch 55/100\n",
      "197/197 [==============================] - 8s 39ms/step - loss: 2.1312\n",
      "Epoch 56/100\n",
      "197/197 [==============================] - 8s 42ms/step - loss: 2.0886\n",
      "Epoch 57/100\n",
      "197/197 [==============================] - 7s 37ms/step - loss: 2.0619\n",
      "Epoch 58/100\n",
      "197/197 [==============================] - 8s 41ms/step - loss: 2.0234\n",
      "Epoch 59/100\n",
      "197/197 [==============================] - 9s 45ms/step - loss: 1.9981\n",
      "Epoch 60/100\n",
      "197/197 [==============================] - 8s 39ms/step - loss: 1.9704\n",
      "Epoch 61/100\n",
      "197/197 [==============================] - 9s 44ms/step - loss: 1.9387\n",
      "Epoch 62/100\n",
      "197/197 [==============================] - 8s 40ms/step - loss: 1.9132\n",
      "Epoch 63/100\n",
      "197/197 [==============================] - 8s 40ms/step - loss: 1.8804\n",
      "Epoch 64/100\n",
      "197/197 [==============================] - 8s 39ms/step - loss: 1.8554\n",
      "Epoch 65/100\n",
      "197/197 [==============================] - 7s 36ms/step - loss: 1.8276\n",
      "Epoch 66/100\n",
      "197/197 [==============================] - 8s 38ms/step - loss: 1.8046\n",
      "Epoch 67/100\n",
      "197/197 [==============================] - 10s 49ms/step - loss: 1.7718\n",
      "Epoch 68/100\n",
      "197/197 [==============================] - 10s 51ms/step - loss: 1.7523\n",
      "Epoch 69/100\n",
      "197/197 [==============================] - 9s 48ms/step - loss: 1.7152\n",
      "Epoch 70/100\n",
      "197/197 [==============================] - 9s 45ms/step - loss: 1.7041\n",
      "Epoch 71/100\n",
      "197/197 [==============================] - 9s 46ms/step - loss: 1.6701\n",
      "Epoch 72/100\n",
      "197/197 [==============================] - 8s 42ms/step - loss: 1.6559\n",
      "Epoch 73/100\n",
      "197/197 [==============================] - 8s 41ms/step - loss: 1.6334\n",
      "Epoch 74/100\n",
      "197/197 [==============================] - 7s 37ms/step - loss: 1.6152\n",
      "Epoch 75/100\n",
      "197/197 [==============================] - 7s 38ms/step - loss: 1.5887\n",
      "Epoch 76/100\n",
      "197/197 [==============================] - 8s 39ms/step - loss: 1.5625\n",
      "Epoch 77/100\n",
      "197/197 [==============================] - 7s 38ms/step - loss: 1.5486\n",
      "Epoch 78/100\n",
      "197/197 [==============================] - 8s 38ms/step - loss: 1.5363\n",
      "Epoch 79/100\n",
      "197/197 [==============================] - 8s 39ms/step - loss: 1.5065\n",
      "Epoch 80/100\n",
      "197/197 [==============================] - 8s 42ms/step - loss: 1.4865\n",
      "Epoch 81/100\n",
      "197/197 [==============================] - 8s 40ms/step - loss: 1.4674\n",
      "Epoch 82/100\n",
      "197/197 [==============================] - 8s 38ms/step - loss: 1.4496\n",
      "Epoch 83/100\n",
      "197/197 [==============================] - 7s 38ms/step - loss: 1.4245\n",
      "Epoch 84/100\n",
      "197/197 [==============================] - 7s 36ms/step - loss: 1.4063\n",
      "Epoch 85/100\n",
      "197/197 [==============================] - 8s 40ms/step - loss: 1.3882\n",
      "Epoch 86/100\n",
      "197/197 [==============================] - 8s 42ms/step - loss: 1.3760\n",
      "Epoch 87/100\n",
      "197/197 [==============================] - 8s 39ms/step - loss: 1.3630\n",
      "Epoch 88/100\n",
      "197/197 [==============================] - 9s 43ms/step - loss: 1.3402\n",
      "Epoch 89/100\n",
      "197/197 [==============================] - 8s 41ms/step - loss: 1.3334\n",
      "Epoch 90/100\n",
      "197/197 [==============================] - 7s 38ms/step - loss: 1.2984\n",
      "Epoch 91/100\n",
      "197/197 [==============================] - 8s 39ms/step - loss: 1.2923\n",
      "Epoch 92/100\n",
      "197/197 [==============================] - 7s 37ms/step - loss: 1.2721\n",
      "Epoch 93/100\n",
      "197/197 [==============================] - 8s 41ms/step - loss: 1.2614\n",
      "Epoch 94/100\n",
      "197/197 [==============================] - 8s 42ms/step - loss: 1.2429\n",
      "Epoch 95/100\n",
      "197/197 [==============================] - 8s 39ms/step - loss: 1.2204\n",
      "Epoch 96/100\n",
      "197/197 [==============================] - 7s 37ms/step - loss: 1.2132\n",
      "Epoch 97/100\n",
      "197/197 [==============================] - 8s 42ms/step - loss: 1.2012\n",
      "Epoch 98/100\n",
      "197/197 [==============================] - 8s 41ms/step - loss: 1.1814\n",
      "Epoch 99/100\n",
      "197/197 [==============================] - 8s 39ms/step - loss: 1.1664\n",
      "Epoch 100/100\n",
      "197/197 [==============================] - 8s 38ms/step - loss: 1.1607\n"
     ]
    },
    {
     "data": {
      "text/plain": [
       "<keras.callbacks.History at 0x1df94301370>"
      ]
     },
     "execution_count": 24,
     "metadata": {},
     "output_type": "execute_result"
    }
   ],
   "source": [
    "# Input layer takes sequence of words as input\n",
    "input_len = max_seq_len - 1\n",
    "model = Sequential()\n",
    "model.add(Embedding(total_words, 10, input_length = input_len))\n",
    "model.add(LSTM(150))\n",
    "model.add(Dropout(0.1))\n",
    "model.add(Dense(total_words, activation = 'softmax'))\n",
    "model.compile(loss = 'categorical_crossentropy', optimizer = 'adam')\n",
    "\n",
    "# Use 100 epoch for efficacy\n",
    "model.fit(predictors, label, epochs = 100, verbose = 1)"
   ]
  },
  {
   "cell_type": "code",
   "execution_count": 26,
   "metadata": {},
   "outputs": [
    {
     "name": "stderr",
     "output_type": "stream",
     "text": [
      "WARNING:absl:Found untraced functions such as _update_step_xla, lstm_cell_1_layer_call_fn, lstm_cell_1_layer_call_and_return_conditional_losses while saving (showing 3 of 3). These functions will not be directly callable after loading.\n"
     ]
    },
    {
     "name": "stdout",
     "output_type": "stream",
     "text": [
      "INFO:tensorflow:Assets written to: poem_model\\assets\n"
     ]
    },
    {
     "name": "stderr",
     "output_type": "stream",
     "text": [
      "INFO:tensorflow:Assets written to: poem_model\\assets\n"
     ]
    }
   ],
   "source": [
    "model.save(\"poem_model\")"
   ]
  },
  {
   "cell_type": "code",
   "execution_count": 29,
   "metadata": {},
   "outputs": [],
   "source": [
    "import keras"
   ]
  },
  {
   "cell_type": "code",
   "execution_count": 47,
   "metadata": {},
   "outputs": [],
   "source": [
    "model2 = keras.models.load_model(\"poem_model\")"
   ]
  },
  {
   "cell_type": "code",
   "execution_count": 39,
   "metadata": {},
   "outputs": [],
   "source": [
    "# Function to generate line\n",
    "def generate_line(text, next_words, max_seq_len, model):\n",
    "    for j in range(next_words):\n",
    "        token_list = tokenizer.texts_to_sequences([text])[0]\n",
    "        token_list = pad_sequences([token_list], maxlen = max_seq_len - 1, padding = 'pre')\n",
    "        predicted = model.predict(token_list, verbose = 0)\n",
    "        classes = np.argmax(predicted,axis=1)\n",
    "        \n",
    "        output_word = ''\n",
    "        for word, index in tokenizer.word_index.items():\n",
    "            if index == classes:\n",
    "                output_word = word\n",
    "                break\n",
    "        text += ' ' + output_word\n",
    "    return text"
   ]
  },
  {
   "cell_type": "code",
   "execution_count": 48,
   "metadata": {},
   "outputs": [
    {
     "data": {
      "text/plain": [
       "'peace always the grass that wells from a feathered throat and the waist! of my ground. sterilis to my cheeks, and i'"
      ]
     },
     "execution_count": 48,
     "metadata": {},
     "output_type": "execute_result"
    }
   ],
   "source": [
    "generate_line(\"peace always\", 20, max_seq_len, model2)"
   ]
  },
  {
   "cell_type": "code",
   "execution_count": null,
   "metadata": {},
   "outputs": [],
   "source": []
  }
 ],
 "metadata": {
  "kernelspec": {
   "display_name": "Python 3",
   "language": "python",
   "name": "python3"
  },
  "language_info": {
   "codemirror_mode": {
    "name": "ipython",
    "version": 3
   },
   "file_extension": ".py",
   "mimetype": "text/x-python",
   "name": "python",
   "nbconvert_exporter": "python",
   "pygments_lexer": "ipython3",
   "version": "3.9.13"
  },
  "orig_nbformat": 4
 },
 "nbformat": 4,
 "nbformat_minor": 2
}
